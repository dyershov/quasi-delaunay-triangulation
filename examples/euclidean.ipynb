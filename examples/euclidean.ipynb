{
 "cells": [
  {
   "cell_type": "code",
   "execution_count": null,
   "id": "2b59afec",
   "metadata": {},
   "outputs": [],
   "source": [
    "import numpy as np\n",
    "from importlib import reload\n",
    "\n",
    "import delaunay_triangulation as dt\n",
    "import convex_covering_spaces as ccs\n",
    "import interactive_plotter as ip\n",
    "import matplotlib\n",
    "%matplotlib tk"
   ]
  },
  {
   "cell_type": "code",
   "execution_count": null,
   "id": "7f14e8d7",
   "metadata": {},
   "outputs": [],
   "source": [
    "space = ccs.Euclidean(2)"
   ]
  },
  {
   "cell_type": "code",
   "execution_count": null,
   "id": "17d4d065",
   "metadata": {},
   "outputs": [],
   "source": [
    "tr = dt.DelaunayTriangulation(space)"
   ]
  },
  {
   "cell_type": "code",
   "execution_count": null,
   "id": "059348cf",
   "metadata": {},
   "outputs": [],
   "source": [
    "iFig = ip.InteractiveFigure()\n",
    "iAx = iFig.get_interactive_axes(0,0)\n",
    "iAx.axes.set_xlim([0,1])\n",
    "iAx.axes.set_ylim([0,1])\n",
    "iAx.axes.set_aspect('equal')\n",
    "iAx.plot([0,1,1,0,0],[0,0,1,1,0], '-b', linewidth=2)\n",
    "tpc = iAx.triplot()"
   ]
  },
  {
   "cell_type": "code",
   "execution_count": null,
   "id": "825474d2",
   "metadata": {},
   "outputs": [],
   "source": [
    "n_batch_points = 5\n",
    "while True:\n",
    "    tr.add_points(np.random.random((n_batch_points, 2)))\n",
    "    simplices = tr.simplices\n",
    "    if simplices is None:\n",
    "        continue\n",
    "    tpc.plot(tr.points[:,0], tr.points[:,1], simplices)\n",
    "    iFig.render(0.1)"
   ]
  }
 ],
 "metadata": {
  "kernelspec": {
   "display_name": "Python 3",
   "language": "python",
   "name": "python3"
  },
  "language_info": {
   "codemirror_mode": {
    "name": "ipython",
    "version": 3
   },
   "file_extension": ".py",
   "mimetype": "text/x-python",
   "name": "python",
   "nbconvert_exporter": "python",
   "pygments_lexer": "ipython3",
   "version": "3.8.5"
  }
 },
 "nbformat": 4,
 "nbformat_minor": 5
}
