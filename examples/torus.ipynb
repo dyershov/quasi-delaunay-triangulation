{
 "cells": [
  {
   "cell_type": "code",
   "execution_count": null,
   "id": "cabfa203",
   "metadata": {},
   "outputs": [],
   "source": [
    "import numpy as np\n",
    "from importlib import reload\n",
    "\n",
    "import delaunay_triangulation as dt\n",
    "import convex_covering_spaces as ccs\n",
    "import interactive_plotter as ip\n",
    "import matplotlib\n",
    "%matplotlib tk"
   ]
  },
  {
   "cell_type": "code",
   "execution_count": null,
   "id": "3278352f",
   "metadata": {},
   "outputs": [],
   "source": [
    "space = ccs.Torus(2,[1,1])"
   ]
  },
  {
   "cell_type": "code",
   "execution_count": null,
   "id": "366146a6",
   "metadata": {},
   "outputs": [],
   "source": [
    "tr = dt.DelaunayTriangulation(space)"
   ]
  },
  {
   "cell_type": "code",
   "execution_count": null,
   "id": "1986a20d",
   "metadata": {},
   "outputs": [],
   "source": [
    "iFig = ip.InteractiveFigure()\n",
    "iAx = iFig.get_interactive_axes(0,0)\n",
    "iAx.axes.set_xlim([-0.25,1.25])\n",
    "iAx.axes.set_ylim([-0.25,1.25])\n",
    "iAx.axes.set_aspect('equal')\n",
    "iAx.plot([0,1,1,0,0],[0,0,1,1,0], '-b', linewidth=2)\n",
    "tpc = iAx.triplot()"
   ]
  },
  {
   "cell_type": "code",
   "execution_count": null,
   "id": "125c081a",
   "metadata": {},
   "outputs": [],
   "source": [
    "n_batch_points = 5\n",
    "while True:\n",
    "    tr.add_points(np.random.random((n_batch_points, 2)))\n",
    "    points = np.vstack((np.zeros(2),space.points(tr.coordinates[1:])))\n",
    "    tpc.plot(points[:,0], points[:,1], tr.faces)\n",
    "    iFig.render(0.1)\n"
   ]
  }
 ],
 "metadata": {
  "kernelspec": {
   "display_name": "Python 3",
   "language": "python",
   "name": "python3"
  },
  "language_info": {
   "codemirror_mode": {
    "name": "ipython",
    "version": 3
   },
   "file_extension": ".py",
   "mimetype": "text/x-python",
   "name": "python",
   "nbconvert_exporter": "python",
   "pygments_lexer": "ipython3",
   "version": "3.8.5"
  }
 },
 "nbformat": 4,
 "nbformat_minor": 5
}
