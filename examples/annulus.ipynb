{
 "cells": [
  {
   "cell_type": "code",
   "execution_count": null,
   "id": "d5c634cc",
   "metadata": {},
   "outputs": [],
   "source": [
    "import numpy as np\n",
    "from importlib import reload\n",
    "\n",
    "import delaunay_triangulation as dt\n",
    "import convex_covering_spaces as ccs\n",
    "import interactive_plotter as ip\n",
    "import matplotlib\n",
    "%matplotlib tk"
   ]
  },
  {
   "cell_type": "code",
   "execution_count": null,
   "id": "b8449ec6",
   "metadata": {},
   "outputs": [],
   "source": [
    "space = ccs.Annulus(2,[None,1])"
   ]
  },
  {
   "cell_type": "code",
   "execution_count": null,
   "id": "e3853b0a",
   "metadata": {},
   "outputs": [],
   "source": [
    "tr = dt.DelaunayTriangulation(space)"
   ]
  },
  {
   "cell_type": "code",
   "execution_count": null,
   "id": "c383c1a4",
   "metadata": {},
   "outputs": [],
   "source": [
    "iFig = ip.InteractiveFigure()\n",
    "iAx = iFig.get_interactive_axes(0,0)\n",
    "iAx.axes.set_xlim([-1.25,1.25])\n",
    "iAx.axes.set_ylim([-1.25,1.25])\n",
    "iAx.axes.set_aspect('equal')\n",
    "tpc = iAx.triplot()"
   ]
  },
  {
   "cell_type": "code",
   "execution_count": null,
   "id": "98e452dd",
   "metadata": {
    "scrolled": true
   },
   "outputs": [],
   "source": [
    "n_batch_points = 50\n",
    "while True:\n",
    "    tr.add_points(np.random.random((n_batch_points, 2)))\n",
    "    r = np.power(0.5 * tr.points[:,0] + 0.5, 2)\n",
    "    a = tr.points[:,1] * 2 * np.pi\n",
    "    points = np.vstack((r * np.cos(a), r * np.sin(a))).T\n",
    "    tpc.plot(points[:,0], points[:,1], tr.simplices)\n",
    "    iFig.render(0.1)"
   ]
  }
 ],
 "metadata": {
  "kernelspec": {
   "display_name": "Python 3",
   "language": "python",
   "name": "python3"
  },
  "language_info": {
   "codemirror_mode": {
    "name": "ipython",
    "version": 3
   },
   "file_extension": ".py",
   "mimetype": "text/x-python",
   "name": "python",
   "nbconvert_exporter": "python",
   "pygments_lexer": "ipython3",
   "version": "3.8.5"
  }
 },
 "nbformat": 4,
 "nbformat_minor": 5
}
